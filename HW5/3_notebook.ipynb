{
 "cells": [
  {
   "cell_type": "markdown",
   "metadata": {},
   "source": [
    "# Problem 3\n",
    "Authors: Sid Murching, Suraj Nair, Alex Cui"
   ]
  },
  {
   "cell_type": "code",
   "execution_count": 1,
   "metadata": {},
   "outputs": [
    {
     "name": "stderr",
     "output_type": "stream",
     "text": [
      "Using TensorFlow backend.\n"
     ]
    }
   ],
   "source": [
    "import numpy as np\n",
    "from P3CHelpers import *\n",
    "from keras.models import Sequential\n",
    "from keras.layers.core import Dense, Activation\n",
    "\n",
    "import sys"
   ]
  },
  {
   "cell_type": "markdown",
   "metadata": {},
   "source": [
    "## 3D:\n",
    "Fill in the generate_traindata and find_most_similar_pairs functions"
   ]
  },
  {
   "cell_type": "code",
   "execution_count": 2,
   "metadata": {},
   "outputs": [],
   "source": [
    "def get_word_repr(word_to_index, word): # 生成词向量\n",
    "    \"\"\"\n",
    "    Returns one-hot-encoded feature representation of the specified word given\n",
    "    a dictionary mapping words to their one-hot-encoded index.\n",
    "\n",
    "    Arguments:\n",
    "        word_to_index: Dictionary mapping words to their corresponding index\n",
    "                       in a one-hot-encoded representation of our corpus.\n",
    "\n",
    "        word:          String containing word whose feature representation we wish to compute.\n",
    "\n",
    "    Returns:\n",
    "        feature_representation:     Feature representation of the passed-in word.\n",
    "    \"\"\"\n",
    "    unique_words = word_to_index.keys()\n",
    "    # Return a vector that's zero everywhere besides the index corresponding to <word>\n",
    "    feature_representation = np.zeros(len(unique_words))\n",
    "    feature_representation[word_to_index[word]] = 1\n",
    "    return feature_representation    \n",
    "\n",
    "def generate_traindata(word_list, word_to_index, window_size=4):\n",
    "    \"\"\"\n",
    "    Generates training data for Skipgram model.\n",
    "\n",
    "    Arguments:\n",
    "        word_list:     Sequential list of words (strings).\n",
    "        word_to_index: Dictionary mapping words to their corresponding index\n",
    "                       in a one-hot-encoded representation of our corpus.\n",
    "\n",
    "        window_size:   Size of Skipgram window.\n",
    "                       (use the default value when running your code).\n",
    "\n",
    "    Returns:\n",
    "        (trainX, trainY):     A pair of matrices (trainX, trainY) containing training \n",
    "                              points (one-hot-encoded vectors representing individual words) and \n",
    "                              their corresponding labels (also one-hot-encoded vectors representing words).\n",
    "\n",
    "                              For each index i, trainX[i] should correspond to a word in\n",
    "                              <word_list>, and trainY[i] should correspond to one of the words within\n",
    "                              a window of size <window_size> of trainX[i].\n",
    "    \"\"\"\n",
    "    trainX = []\n",
    "    trainY = []\n",
    "    # TODO: Implement this function, populating trainX and trainY\n",
    "    for i in range(len(word_list)):\n",
    "        for j in range(-window_size, window_size + 1):\n",
    "            if i + j >= 0 and i + j < len(word_list) and j != 0:\n",
    "                point_X = get_word_repr(word_to_index, word_list[i]) # vector of the word in word_list\n",
    "                trainX.append(point_X) # 目标单词 词向量的矩阵\n",
    "                point_Y = get_word_repr(word_to_index, word_list[i+j]) # vector of other words in the window\n",
    "                trainY.append(point_Y) # 除目标单词以外的窗口中的一个词 词向量的矩阵\n",
    "    return (np.array(trainX), np.array(trainY))"
   ]
  },
  {
   "cell_type": "code",
   "execution_count": 3,
   "metadata": {},
   "outputs": [],
   "source": [
    "def find_most_similar_pairs(filename, num_latent_factors):\n",
    "    \"\"\"\n",
    "    Find the most similar pairs from the word embeddings computed from\n",
    "    a body of text\n",
    "    \n",
    "    Arguments:\n",
    "        filename:           Text file to read and train embeddings from\n",
    "        num_latent_factors: The number of latent factors / the size of the embedding\n",
    "    \"\"\"\n",
    "    # Load in a list of words from the specified file; remove non-alphanumeric characters\n",
    "    # and make all chars lowercase.\n",
    "    sample_text = load_word_list(filename)\n",
    "    print('sample_text length', len(sample_text))\n",
    "\n",
    "    # Create dictionary mapping unique words to their one-hot-encoded index\n",
    "    word_to_index = generate_onehot_dict(sample_text)\n",
    "    # Create training data using default window size\n",
    "    trainX, trainY = generate_traindata(sample_text, word_to_index)\n",
    "    print('trainX.shape = ', trainX.shape, 'trainY.shape = ', trainY.shape)\n",
    "    \n",
    "    # TODO: 1) Create and train model in Keras.      \n",
    "    \n",
    "    # vocab_size = number of unique words in our text file. Will be useful when adding layers\n",
    "    # to your neural network\n",
    "    vocab_size = len(word_to_index) # input dim\n",
    "    model = Sequential()\n",
    "    model.add(Dense(num_latent_factors, input_dim=(vocab_size))) # a single hidden layer of num_latent_factors/10 units\n",
    "    model.add(Dense(vocab_size)) # output: vocab_size个单词与目标单词的 词向量相似度 的vector\n",
    "    model.add(Activation('softmax'))\n",
    "    model.compile(loss='categorical_crossentropy', optimizer='rmsprop', metrics=['accuracy'])    # multi-class classification\n",
    "    fit = model.fit(trainX, trainY)\n",
    "    \n",
    "    \n",
    "    \n",
    "    # TODO: 2) Extract weights for hidden layer, set <weights> variable below\n",
    "    \n",
    "    weights = None\n",
    "    \n",
    "    print('layer_0 dim = ', model.layers[0].get_weights()[0].shape) # get layers[0] weight, get_weights()[1] gets the bias term\n",
    "    \n",
    "    print('layer_1 dim = ', model.layers[1].get_weights()[0].shape) # get layers[0] weight, get_weights()[1] gets the bias term\n",
    "    \n",
    "    weights = model.layers[0].get_weights()[0]\n",
    "    \n",
    "    # Find and print most similar pairs\n",
    "    similar_pairs = most_similar_pairs(weights, word_to_index)\n",
    "    for pair in similar_pairs[:30]:\n",
    "        print(pair)"
   ]
  },
  {
   "cell_type": "markdown",
   "metadata": {},
   "source": [
    "## 3G:\n",
    "Run the function below and report your results for dr_seuss.txt."
   ]
  },
  {
   "cell_type": "code",
   "execution_count": 5,
   "metadata": {},
   "outputs": [
    {
     "name": "stdout",
     "output_type": "stream",
     "text": [
      "sample_text length 2071\n",
      "trainX.shape =  (16548, 308) trainY.shape =  (16548, 308)\n",
      "Epoch 1/1\n",
      "16548/16548 [==============================] - 1s 38us/step - loss: 5.2212 - accuracy: 0.0517\n",
      "layer_0 dim =  (308, 10)\n",
      "layer_1 dim =  (10, 308)\n",
      "Pair(them, would), Similarity: 0.9628089\n",
      "Pair(would, them), Similarity: 0.9628089\n",
      "Pair(car, them), Similarity: 0.95937026\n",
      "Pair(like, or), Similarity: 0.957788\n",
      "Pair(or, like), Similarity: 0.957788\n",
      "Pair(not, them), Similarity: 0.95743936\n",
      "Pair(eat, would), Similarity: 0.9547398\n",
      "Pair(a, eat), Similarity: 0.95205164\n",
      "Pair(in, not), Similarity: 0.9470372\n",
      "Pair(i, or), Similarity: 0.9458327\n",
      "Pair(ned, dear), Similarity: 0.9441935\n",
      "Pair(dear, ned), Similarity: 0.9441935\n",
      "Pair(do, a), Similarity: 0.9412332\n",
      "Pair(eleven, boat), Similarity: 0.93666583\n",
      "Pair(boat, eleven), Similarity: 0.93666583\n",
      "Pair(red, oh), Similarity: 0.93665606\n",
      "Pair(oh, red), Similarity: 0.93665606\n",
      "Pair(could, in), Similarity: 0.9363972\n",
      "Pair(things, sing), Similarity: 0.9356929\n",
      "Pair(sing, things), Similarity: 0.9356929\n",
      "Pair(open, cans), Similarity: 0.9347308\n",
      "Pair(cans, open), Similarity: 0.9347308\n",
      "Pair(and, i), Similarity: 0.9308523\n",
      "Pair(samiam, car), Similarity: 0.92888826\n",
      "Pair(with, box), Similarity: 0.9280398\n",
      "Pair(box, with), Similarity: 0.9280398\n",
      "Pair(from, red), Similarity: 0.9266325\n",
      "Pair(low, goodbye), Similarity: 0.92613554\n",
      "Pair(goodbye, low), Similarity: 0.92613554\n",
      "Pair(here, samiam), Similarity: 0.92585975\n"
     ]
    }
   ],
   "source": [
    "find_most_similar_pairs('data/dr_seuss.txt', 10)"
   ]
  },
  {
   "cell_type": "code",
   "execution_count": null,
   "metadata": {},
   "outputs": [],
   "source": []
  }
 ],
 "metadata": {
  "kernelspec": {
   "display_name": "Python 3",
   "language": "python",
   "name": "python3"
  },
  "language_info": {
   "codemirror_mode": {
    "name": "ipython",
    "version": 3
   },
   "file_extension": ".py",
   "mimetype": "text/x-python",
   "name": "python",
   "nbconvert_exporter": "python",
   "pygments_lexer": "ipython3",
   "version": "3.7.3"
  }
 },
 "nbformat": 4,
 "nbformat_minor": 4
}
