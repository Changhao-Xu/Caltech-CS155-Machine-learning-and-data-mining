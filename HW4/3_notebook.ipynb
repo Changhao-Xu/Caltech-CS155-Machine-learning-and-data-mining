{
 "cells": [
  {
   "cell_type": "markdown",
   "metadata": {},
   "source": [
    "# Problem 3"
   ]
  },
  {
   "cell_type": "markdown",
   "metadata": {},
   "source": [
    "Use this notebook to write your code for problem 3."
   ]
  },
  {
   "cell_type": "code",
   "execution_count": 1,
   "metadata": {},
   "outputs": [],
   "source": [
    "import numpy as np\n",
    "import matplotlib.pyplot as plt\n",
    "%matplotlib inline"
   ]
  },
  {
   "cell_type": "code",
   "execution_count": 2,
   "metadata": {},
   "outputs": [
    {
     "name": "stdout",
     "output_type": "stream",
     "text": [
      "True\n",
      "0\n",
      "GeForce GTX 1050 Ti with Max-Q Design\n"
     ]
    }
   ],
   "source": [
    "import torch\n",
    "\n",
    "print(torch.cuda.is_available())\n",
    "print(torch.cuda.current_device())\n",
    "print(torch.cuda.get_device_name(0))\n",
    "device = torch.device(\"cuda:0\" if torch.cuda.is_available() else \"cpu\")"
   ]
  },
  {
   "cell_type": "markdown",
   "metadata": {},
   "source": [
    "## 3D - Convolutional network"
   ]
  },
  {
   "cell_type": "markdown",
   "metadata": {},
   "source": [
    "As in problem 2, we have conveniently provided for your use code that loads and preprocesses the MNIST data."
   ]
  },
  {
   "cell_type": "code",
   "execution_count": 3,
   "metadata": {},
   "outputs": [],
   "source": [
    "# load MNIST data into PyTorch format\n",
    "import torch\n",
    "import torchvision\n",
    "import torchvision.transforms as transforms\n",
    "\n",
    "\n",
    "# set batch size\n",
    "batch_size = 32\n",
    "\n",
    "# load training data downloaded into data/ folder\n",
    "mnist_training_data = torchvision.datasets.MNIST('data/', train=True, download=True,\n",
    "                                                transform=transforms.ToTensor())\n",
    "# transforms.ToTensor() converts batch of images to 4-D tensor and normalizes 0-255 to 0-1.0\n",
    "training_data_loader = torch.utils.data.DataLoader(mnist_training_data,\n",
    "                                                  batch_size=batch_size,\n",
    "                                                  shuffle=True)\n",
    "\n",
    "# load test data\n",
    "mnist_test_data = torchvision.datasets.MNIST('data/', train=False, download=True,\n",
    "                                                transform=transforms.ToTensor())\n",
    "test_data_loader = torch.utils.data.DataLoader(mnist_test_data,\n",
    "                                                  batch_size=batch_size,\n",
    "                                                  shuffle=False)"
   ]
  },
  {
   "cell_type": "code",
   "execution_count": 4,
   "metadata": {},
   "outputs": [
    {
     "name": "stdout",
     "output_type": "stream",
     "text": [
      "1875 training batches\n",
      "32 samples in each batch\n",
      "60000 total training samples\n",
      "313 validation batches\n"
     ]
    }
   ],
   "source": [
    "# look at the number of batches per epoch for training and validation\n",
    "print(f'{len(training_data_loader)} training batches')\n",
    "print(f'{batch_size} samples in each batch')\n",
    "print(f'{len(training_data_loader) * batch_size} total training samples')\n",
    "print(f'{len(test_data_loader)} validation batches')"
   ]
  },
  {
   "cell_type": "code",
   "execution_count": 5,
   "metadata": {},
   "outputs": [],
   "source": [
    "# sample model\n",
    "import torch.nn as nn\n",
    "\n",
    "model = nn.Sequential(\n",
    "    nn.Conv2d(1, 70, kernel_size=(3,3)),\n",
    "    nn.BatchNorm2d(70),\n",
    "    nn.ReLU(),\n",
    "    nn.MaxPool2d((2,2)),\n",
    "    nn.Dropout(p=0.2),\n",
    "    \n",
    "    nn.Conv2d(70, 70, kernel_size=(3,3)),\n",
    "    nn.BatchNorm2d(70),\n",
    "    nn.ReLU(),\n",
    "    nn.MaxPool2d((2,2)),\n",
    "    nn.Dropout(p=0.2),\n",
    "    \n",
    "    nn.Flatten(),\n",
    "    nn.Linear(25*70, 70),\n",
    "    nn.ReLU(),\n",
    "    nn.Linear(70, 10)\n",
    "    # PyTorch implementation of cross-entropy loss includes softmax layer\n",
    ")"
   ]
  },
  {
   "cell_type": "code",
   "execution_count": 6,
   "metadata": {},
   "outputs": [
    {
     "name": "stdout",
     "output_type": "stream",
     "text": [
      "torch.Size([70, 1, 3, 3])\n",
      "torch.Size([70])\n",
      "torch.Size([70])\n",
      "torch.Size([70])\n",
      "torch.Size([70, 70, 3, 3])\n",
      "torch.Size([70])\n",
      "torch.Size([70])\n",
      "torch.Size([70])\n",
      "torch.Size([70, 1750])\n",
      "torch.Size([70])\n",
      "torch.Size([10, 70])\n",
      "torch.Size([10])\n"
     ]
    }
   ],
   "source": [
    "# why don't we take a look at the shape of the weights for each layer\n",
    "for p in model.parameters():\n",
    "    print(p.data.shape)"
   ]
  },
  {
   "cell_type": "code",
   "execution_count": 7,
   "metadata": {},
   "outputs": [
    {
     "name": "stdout",
     "output_type": "stream",
     "text": [
      "total params: 168430\n"
     ]
    }
   ],
   "source": [
    "# our model has some # of parameters:\n",
    "count = 0\n",
    "for p in model.parameters():\n",
    "    n_params = np.prod(list(p.data.shape)).item()\n",
    "    count += n_params\n",
    "print(f'total params: {count}')"
   ]
  },
  {
   "cell_type": "code",
   "execution_count": 8,
   "metadata": {},
   "outputs": [],
   "source": [
    "# For a multi-class classification problem\n",
    "import torch.optim as optim\n",
    "criterion = nn.CrossEntropyLoss()\n",
    "optimizer = optim.RMSprop(model.parameters())"
   ]
  },
  {
   "cell_type": "markdown",
   "metadata": {},
   "source": [
    "# Final test accuracy when trained for 10 epochs"
   ]
  },
  {
   "cell_type": "code",
   "execution_count": 9,
   "metadata": {
    "scrolled": true
   },
   "outputs": [
    {
     "name": "stdout",
     "output_type": "stream",
     "text": [
      "Epoch 1/10:...........\n",
      "\tloss: 0.5945, acc: 0.8859, val loss: 0.0622, val acc: 0.9799\n",
      "Epoch 2/10:...........\n",
      "\tloss: 0.0962, acc: 0.9719, val loss: 0.0487, val acc: 0.9849\n",
      "Epoch 3/10:...........\n",
      "\tloss: 0.0805, acc: 0.9772, val loss: 0.0506, val acc: 0.9855\n",
      "Epoch 4/10:...........\n",
      "\tloss: 0.0744, acc: 0.9796, val loss: 0.0463, val acc: 0.9853\n",
      "Epoch 5/10:...........\n",
      "\tloss: 0.0694, acc: 0.9803, val loss: 0.0483, val acc: 0.9863\n",
      "Epoch 6/10:...........\n",
      "\tloss: 0.0669, acc: 0.9810, val loss: 0.0610, val acc: 0.9833\n",
      "Epoch 7/10:...........\n",
      "\tloss: 0.0663, acc: 0.9817, val loss: 0.0680, val acc: 0.9816\n",
      "Epoch 8/10:...........\n",
      "\tloss: 0.0630, acc: 0.9831, val loss: 0.0515, val acc: 0.9861\n",
      "Epoch 9/10:...........\n",
      "\tloss: 0.0649, acc: 0.9822, val loss: 0.0583, val acc: 0.9844\n",
      "Epoch 10/10:...........\n",
      "\tloss: 0.0612, acc: 0.9837, val loss: 0.0391, val acc: 0.9893\n"
     ]
    }
   ],
   "source": [
    "# Train the model for 10 epochs, iterating on the data in batches\n",
    "n_epochs = 10\n",
    "\n",
    "# store metrics\n",
    "training_accuracy_history = np.zeros([n_epochs, 1])\n",
    "training_loss_history = np.zeros([n_epochs, 1])\n",
    "validation_accuracy_history = np.zeros([n_epochs, 1])\n",
    "validation_loss_history = np.zeros([n_epochs, 1])\n",
    "\n",
    "for epoch in range(n_epochs):\n",
    "    print(f'Epoch {epoch+1}/10:', end='')\n",
    "    train_total = 0\n",
    "    train_correct = 0\n",
    "    # train\n",
    "    model.train()\n",
    "    for i, data in enumerate(training_data_loader):\n",
    "        images, labels = data\n",
    "        optimizer.zero_grad()\n",
    "        # forward pass\n",
    "        output = model(images)\n",
    "        # calculate categorical cross entropy loss\n",
    "        loss = criterion(output, labels)\n",
    "        # backward pass\n",
    "        loss.backward()\n",
    "        optimizer.step()\n",
    "        \n",
    "        # track training accuracy\n",
    "        _, predicted = torch.max(output.data, 1)\n",
    "        train_total += labels.size(0)\n",
    "        train_correct += (predicted == labels).sum().item()\n",
    "        # track training loss\n",
    "        training_loss_history[epoch] += loss.item()\n",
    "        # progress update after 180 batches (~1/10 epoch for batch size 32)\n",
    "        if i % 180 == 0: print('.',end='')\n",
    "    training_loss_history[epoch] /= len(training_data_loader)\n",
    "    training_accuracy_history[epoch] = train_correct / train_total\n",
    "    print(f'\\n\\tloss: {training_loss_history[epoch,0]:0.4f}, acc: {training_accuracy_history[epoch,0]:0.4f}',end='')\n",
    "        \n",
    "    # validate\n",
    "    test_total = 0\n",
    "    test_correct = 0\n",
    "    with torch.no_grad():\n",
    "        model.eval()\n",
    "        for i, data in enumerate(test_data_loader):\n",
    "            images, labels = data\n",
    "            # forward pass\n",
    "            output = model(images)\n",
    "            # find accuracy\n",
    "            _, predicted = torch.max(output.data, 1)\n",
    "            test_total += labels.size(0)\n",
    "            test_correct += (predicted == labels).sum().item()\n",
    "            # find loss\n",
    "            loss = criterion(output, labels)\n",
    "            validation_loss_history[epoch] += loss.item()\n",
    "        validation_loss_history[epoch] /= len(test_data_loader)\n",
    "        validation_accuracy_history[epoch] = test_correct / test_total\n",
    "    print(f', val loss: {validation_loss_history[epoch,0]:0.4f}, val acc: {validation_accuracy_history[epoch,0]:0.4f}')"
   ]
  },
  {
   "cell_type": "markdown",
   "metadata": {},
   "source": [
    "# Test accuracy for the 10 dropout probabilities"
   ]
  },
  {
   "cell_type": "code",
   "execution_count": 12,
   "metadata": {},
   "outputs": [
    {
     "name": "stdout",
     "output_type": "stream",
     "text": [
      "p = 0.0:...........\n",
      "\tloss: 0.4287, acc: 0.9413, val loss: 0.0652, val acc: 0.9805\n",
      "p = 0.1111111111111111:...........\n",
      "\tloss: 0.4703, acc: 0.8885, val loss: 0.0521, val acc: 0.9848\n",
      "p = 0.2222222222222222:...........\n",
      "\tloss: 0.4737, acc: 0.9250, val loss: 0.0784, val acc: 0.9763\n",
      "p = 0.3333333333333333:...........\n",
      "\tloss: 0.4459, acc: 0.9008, val loss: 0.0772, val acc: 0.9792\n",
      "p = 0.4444444444444444:...........\n",
      "\tloss: 0.6755, acc: 0.8090, val loss: 0.0953, val acc: 0.9724\n",
      "p = 0.5555555555555556:...........\n",
      "\tloss: 0.6432, acc: 0.8130, val loss: 0.1249, val acc: 0.9631\n",
      "p = 0.6666666666666666:...........\n",
      "\tloss: 0.5966, acc: 0.8671, val loss: 0.0955, val acc: 0.9703\n",
      "p = 0.7777777777777777:...........\n",
      "\tloss: 0.7372, acc: 0.7992, val loss: 0.1612, val acc: 0.9547\n",
      "p = 0.8888888888888888:...........\n",
      "\tloss: 1.3541, acc: 0.5495, val loss: 0.3817, val acc: 0.9119\n",
      "p = 1.0:...........\n",
      "\tloss: 2.3027, acc: 0.1084, val loss: 146.6301, val acc: 0.1011\n"
     ]
    }
   ],
   "source": [
    "p_s = np.linspace(0, 1, num = 10)\n",
    "\n",
    "for p in p_s:\n",
    "    model = nn.Sequential(\n",
    "        nn.Conv2d(1, 64, kernel_size=(3,3)),\n",
    "        nn.BatchNorm2d(64),\n",
    "        nn.ReLU(),\n",
    "        nn.MaxPool2d((2,2)),\n",
    "        nn.Dropout(p= p),\n",
    "\n",
    "        nn.Conv2d(64, 64, kernel_size=(3,3)),\n",
    "        nn.BatchNorm2d(64),\n",
    "        nn.ReLU(),\n",
    "        nn.MaxPool2d((2,2)),\n",
    "        nn.Dropout(p= p),\n",
    "\n",
    "        nn.Flatten(),\n",
    "        nn.Linear(25*64, 64),\n",
    "        nn.ReLU(),\n",
    "        nn.Linear(64, 10)\n",
    "        # PyTorch implementation of cross-entropy loss includes softmax layer\n",
    "    )\n",
    "    print(f'p = {p}:', end='')\n",
    "    criterion = nn.CrossEntropyLoss()\n",
    "    optimizer = optim.RMSprop(model.parameters())\n",
    "    # store metrics\n",
    "    training_accuracy = 0\n",
    "    training_loss = 0\n",
    "    validation_accuracy = 0\n",
    "    validation_loss = 0\n",
    "\n",
    "    train_total = 0\n",
    "    train_correct = 0\n",
    "    # train\n",
    "    model.train()\n",
    "    for i, data in enumerate(training_data_loader):\n",
    "        images, labels = data\n",
    "        optimizer.zero_grad()\n",
    "        # forward pass\n",
    "        output = model(images)\n",
    "        # calculate categorical cross entropy loss\n",
    "        loss = criterion(output, labels)\n",
    "        # backward pass\n",
    "        loss.backward()\n",
    "        optimizer.step()\n",
    "\n",
    "        # track training accuracy\n",
    "        _, predicted = torch.max(output.data, 1)\n",
    "        train_total += labels.size(0)\n",
    "        train_correct += (predicted == labels).sum().item()\n",
    "        # track training loss\n",
    "        training_loss += loss.item()\n",
    "        # progress update after 180 batches\n",
    "        if i % 180 == 0: print('.',end='')\n",
    "    training_loss /= len(training_data_loader)\n",
    "    training_accuracy = train_correct / train_total\n",
    "    print(f'\\n\\tloss: {training_loss:0.4f}, acc: {training_accuracy:0.4f}',end='')\n",
    "\n",
    "    # validate\n",
    "    test_total = 0\n",
    "    test_correct = 0\n",
    "    with torch.no_grad():\n",
    "        model.eval()\n",
    "        for i, data in enumerate(test_data_loader):\n",
    "            images, labels = data\n",
    "            # forward pass\n",
    "            output = model(images)\n",
    "            # find accuracy\n",
    "            _, predicted = torch.max(output.data, 1)\n",
    "            test_total += labels.size(0)\n",
    "            test_correct += (predicted == labels).sum().item()\n",
    "            # find loss\n",
    "            loss = criterion(output, labels)\n",
    "            validation_loss += loss.item()\n",
    "        validation_loss /= len(test_data_loader)\n",
    "        validation_accuracy = test_correct / test_total\n",
    "    print(f', val loss: {validation_loss:0.4f}, val acc: {validation_accuracy:0.4f}')\n"
   ]
  },
  {
   "cell_type": "markdown",
   "metadata": {},
   "source": [
    "Above, we output the training loss/accuracy as well as the validation loss and accuracy. Not bad! Let's see if you can do better."
   ]
  }
 ],
 "metadata": {
  "kernelspec": {
   "display_name": "Python 3",
   "language": "python",
   "name": "python3"
  },
  "language_info": {
   "codemirror_mode": {
    "name": "ipython",
    "version": 3
   },
   "file_extension": ".py",
   "mimetype": "text/x-python",
   "name": "python",
   "nbconvert_exporter": "python",
   "pygments_lexer": "ipython3",
   "version": "3.7.3"
  }
 },
 "nbformat": 4,
 "nbformat_minor": 1
}
